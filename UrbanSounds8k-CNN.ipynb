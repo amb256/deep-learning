{
 "cells": [
  {
   "cell_type": "code",
   "execution_count": 1,
   "metadata": {},
   "outputs": [],
   "source": [
    "import pandas as pd\n",
    "import seaborn as sns\n",
    "import numpy as np\n",
    "import os\n",
    "import librosa\n",
    "import librosa.display\n",
    "import matplotlib.pyplot as plt\n",
    "import time\n",
    "plt.style.use('seaborn')\n",
    "% matplotlib inline"
   ]
  },
  {
   "cell_type": "code",
   "execution_count": 2,
   "metadata": {},
   "outputs": [],
   "source": [
    "path = 'c:\\\\users\\\\ambro\\\\desktop\\\\AudioClassifier\\\\UrbanSound8k'\n",
    "df = pd.read_csv(path+\"\\\\metadata\\\\UrbanSound8k.csv\") # metadata csv"
   ]
  },
  {
   "cell_type": "markdown",
   "metadata": {},
   "source": [
    "## Data Exploration"
   ]
  },
  {
   "cell_type": "code",
   "execution_count": 3,
   "metadata": {},
   "outputs": [
    {
     "data": {
      "text/html": [
       "<div>\n",
       "<style scoped>\n",
       "    .dataframe tbody tr th:only-of-type {\n",
       "        vertical-align: middle;\n",
       "    }\n",
       "\n",
       "    .dataframe tbody tr th {\n",
       "        vertical-align: top;\n",
       "    }\n",
       "\n",
       "    .dataframe thead th {\n",
       "        text-align: right;\n",
       "    }\n",
       "</style>\n",
       "<table border=\"1\" class=\"dataframe\">\n",
       "  <thead>\n",
       "    <tr style=\"text-align: right;\">\n",
       "      <th></th>\n",
       "      <th>slice_file_name</th>\n",
       "      <th>fsID</th>\n",
       "      <th>start</th>\n",
       "      <th>end</th>\n",
       "      <th>salience</th>\n",
       "      <th>fold</th>\n",
       "      <th>classID</th>\n",
       "      <th>class</th>\n",
       "    </tr>\n",
       "  </thead>\n",
       "  <tbody>\n",
       "    <tr>\n",
       "      <th>0</th>\n",
       "      <td>100032-3-0-0.wav</td>\n",
       "      <td>100032</td>\n",
       "      <td>0.000000</td>\n",
       "      <td>0.317551</td>\n",
       "      <td>1</td>\n",
       "      <td>5</td>\n",
       "      <td>3</td>\n",
       "      <td>dog_bark</td>\n",
       "    </tr>\n",
       "    <tr>\n",
       "      <th>1</th>\n",
       "      <td>100263-2-0-117.wav</td>\n",
       "      <td>100263</td>\n",
       "      <td>58.500000</td>\n",
       "      <td>62.500000</td>\n",
       "      <td>1</td>\n",
       "      <td>5</td>\n",
       "      <td>2</td>\n",
       "      <td>children_playing</td>\n",
       "    </tr>\n",
       "    <tr>\n",
       "      <th>2</th>\n",
       "      <td>100263-2-0-121.wav</td>\n",
       "      <td>100263</td>\n",
       "      <td>60.500000</td>\n",
       "      <td>64.500000</td>\n",
       "      <td>1</td>\n",
       "      <td>5</td>\n",
       "      <td>2</td>\n",
       "      <td>children_playing</td>\n",
       "    </tr>\n",
       "    <tr>\n",
       "      <th>3</th>\n",
       "      <td>100263-2-0-126.wav</td>\n",
       "      <td>100263</td>\n",
       "      <td>63.000000</td>\n",
       "      <td>67.000000</td>\n",
       "      <td>1</td>\n",
       "      <td>5</td>\n",
       "      <td>2</td>\n",
       "      <td>children_playing</td>\n",
       "    </tr>\n",
       "    <tr>\n",
       "      <th>4</th>\n",
       "      <td>100263-2-0-137.wav</td>\n",
       "      <td>100263</td>\n",
       "      <td>68.500000</td>\n",
       "      <td>72.500000</td>\n",
       "      <td>1</td>\n",
       "      <td>5</td>\n",
       "      <td>2</td>\n",
       "      <td>children_playing</td>\n",
       "    </tr>\n",
       "    <tr>\n",
       "      <th>5</th>\n",
       "      <td>100263-2-0-143.wav</td>\n",
       "      <td>100263</td>\n",
       "      <td>71.500000</td>\n",
       "      <td>75.500000</td>\n",
       "      <td>1</td>\n",
       "      <td>5</td>\n",
       "      <td>2</td>\n",
       "      <td>children_playing</td>\n",
       "    </tr>\n",
       "    <tr>\n",
       "      <th>6</th>\n",
       "      <td>100263-2-0-161.wav</td>\n",
       "      <td>100263</td>\n",
       "      <td>80.500000</td>\n",
       "      <td>84.500000</td>\n",
       "      <td>1</td>\n",
       "      <td>5</td>\n",
       "      <td>2</td>\n",
       "      <td>children_playing</td>\n",
       "    </tr>\n",
       "    <tr>\n",
       "      <th>7</th>\n",
       "      <td>100263-2-0-3.wav</td>\n",
       "      <td>100263</td>\n",
       "      <td>1.500000</td>\n",
       "      <td>5.500000</td>\n",
       "      <td>1</td>\n",
       "      <td>5</td>\n",
       "      <td>2</td>\n",
       "      <td>children_playing</td>\n",
       "    </tr>\n",
       "    <tr>\n",
       "      <th>8</th>\n",
       "      <td>100263-2-0-36.wav</td>\n",
       "      <td>100263</td>\n",
       "      <td>18.000000</td>\n",
       "      <td>22.000000</td>\n",
       "      <td>1</td>\n",
       "      <td>5</td>\n",
       "      <td>2</td>\n",
       "      <td>children_playing</td>\n",
       "    </tr>\n",
       "    <tr>\n",
       "      <th>9</th>\n",
       "      <td>100648-1-0-0.wav</td>\n",
       "      <td>100648</td>\n",
       "      <td>4.823402</td>\n",
       "      <td>5.471927</td>\n",
       "      <td>2</td>\n",
       "      <td>10</td>\n",
       "      <td>1</td>\n",
       "      <td>car_horn</td>\n",
       "    </tr>\n",
       "    <tr>\n",
       "      <th>10</th>\n",
       "      <td>100648-1-1-0.wav</td>\n",
       "      <td>100648</td>\n",
       "      <td>8.998279</td>\n",
       "      <td>10.052132</td>\n",
       "      <td>2</td>\n",
       "      <td>10</td>\n",
       "      <td>1</td>\n",
       "      <td>car_horn</td>\n",
       "    </tr>\n",
       "    <tr>\n",
       "      <th>11</th>\n",
       "      <td>100648-1-2-0.wav</td>\n",
       "      <td>100648</td>\n",
       "      <td>16.699509</td>\n",
       "      <td>17.104837</td>\n",
       "      <td>2</td>\n",
       "      <td>10</td>\n",
       "      <td>1</td>\n",
       "      <td>car_horn</td>\n",
       "    </tr>\n",
       "    <tr>\n",
       "      <th>12</th>\n",
       "      <td>100648-1-3-0.wav</td>\n",
       "      <td>100648</td>\n",
       "      <td>17.631764</td>\n",
       "      <td>19.253075</td>\n",
       "      <td>2</td>\n",
       "      <td>10</td>\n",
       "      <td>1</td>\n",
       "      <td>car_horn</td>\n",
       "    </tr>\n",
       "    <tr>\n",
       "      <th>13</th>\n",
       "      <td>100648-1-4-0.wav</td>\n",
       "      <td>100648</td>\n",
       "      <td>25.332994</td>\n",
       "      <td>27.197502</td>\n",
       "      <td>2</td>\n",
       "      <td>10</td>\n",
       "      <td>1</td>\n",
       "      <td>car_horn</td>\n",
       "    </tr>\n",
       "    <tr>\n",
       "      <th>14</th>\n",
       "      <td>100652-3-0-0.wav</td>\n",
       "      <td>100652</td>\n",
       "      <td>0.000000</td>\n",
       "      <td>4.000000</td>\n",
       "      <td>1</td>\n",
       "      <td>2</td>\n",
       "      <td>3</td>\n",
       "      <td>dog_bark</td>\n",
       "    </tr>\n",
       "    <tr>\n",
       "      <th>15</th>\n",
       "      <td>100652-3-0-1.wav</td>\n",
       "      <td>100652</td>\n",
       "      <td>0.500000</td>\n",
       "      <td>4.500000</td>\n",
       "      <td>1</td>\n",
       "      <td>2</td>\n",
       "      <td>3</td>\n",
       "      <td>dog_bark</td>\n",
       "    </tr>\n",
       "    <tr>\n",
       "      <th>16</th>\n",
       "      <td>100652-3-0-2.wav</td>\n",
       "      <td>100652</td>\n",
       "      <td>1.000000</td>\n",
       "      <td>5.000000</td>\n",
       "      <td>1</td>\n",
       "      <td>2</td>\n",
       "      <td>3</td>\n",
       "      <td>dog_bark</td>\n",
       "    </tr>\n",
       "    <tr>\n",
       "      <th>17</th>\n",
       "      <td>100652-3-0-3.wav</td>\n",
       "      <td>100652</td>\n",
       "      <td>1.500000</td>\n",
       "      <td>5.500000</td>\n",
       "      <td>1</td>\n",
       "      <td>2</td>\n",
       "      <td>3</td>\n",
       "      <td>dog_bark</td>\n",
       "    </tr>\n",
       "    <tr>\n",
       "      <th>18</th>\n",
       "      <td>100795-3-0-0.wav</td>\n",
       "      <td>100795</td>\n",
       "      <td>0.191790</td>\n",
       "      <td>4.191790</td>\n",
       "      <td>1</td>\n",
       "      <td>10</td>\n",
       "      <td>3</td>\n",
       "      <td>dog_bark</td>\n",
       "    </tr>\n",
       "    <tr>\n",
       "      <th>19</th>\n",
       "      <td>100795-3-1-0.wav</td>\n",
       "      <td>100795</td>\n",
       "      <td>13.059155</td>\n",
       "      <td>17.059155</td>\n",
       "      <td>1</td>\n",
       "      <td>10</td>\n",
       "      <td>3</td>\n",
       "      <td>dog_bark</td>\n",
       "    </tr>\n",
       "  </tbody>\n",
       "</table>\n",
       "</div>"
      ],
      "text/plain": [
       "       slice_file_name    fsID      start        end  salience  fold  classID  \\\n",
       "0     100032-3-0-0.wav  100032   0.000000   0.317551         1     5        3   \n",
       "1   100263-2-0-117.wav  100263  58.500000  62.500000         1     5        2   \n",
       "2   100263-2-0-121.wav  100263  60.500000  64.500000         1     5        2   \n",
       "3   100263-2-0-126.wav  100263  63.000000  67.000000         1     5        2   \n",
       "4   100263-2-0-137.wav  100263  68.500000  72.500000         1     5        2   \n",
       "5   100263-2-0-143.wav  100263  71.500000  75.500000         1     5        2   \n",
       "6   100263-2-0-161.wav  100263  80.500000  84.500000         1     5        2   \n",
       "7     100263-2-0-3.wav  100263   1.500000   5.500000         1     5        2   \n",
       "8    100263-2-0-36.wav  100263  18.000000  22.000000         1     5        2   \n",
       "9     100648-1-0-0.wav  100648   4.823402   5.471927         2    10        1   \n",
       "10    100648-1-1-0.wav  100648   8.998279  10.052132         2    10        1   \n",
       "11    100648-1-2-0.wav  100648  16.699509  17.104837         2    10        1   \n",
       "12    100648-1-3-0.wav  100648  17.631764  19.253075         2    10        1   \n",
       "13    100648-1-4-0.wav  100648  25.332994  27.197502         2    10        1   \n",
       "14    100652-3-0-0.wav  100652   0.000000   4.000000         1     2        3   \n",
       "15    100652-3-0-1.wav  100652   0.500000   4.500000         1     2        3   \n",
       "16    100652-3-0-2.wav  100652   1.000000   5.000000         1     2        3   \n",
       "17    100652-3-0-3.wav  100652   1.500000   5.500000         1     2        3   \n",
       "18    100795-3-0-0.wav  100795   0.191790   4.191790         1    10        3   \n",
       "19    100795-3-1-0.wav  100795  13.059155  17.059155         1    10        3   \n",
       "\n",
       "               class  \n",
       "0           dog_bark  \n",
       "1   children_playing  \n",
       "2   children_playing  \n",
       "3   children_playing  \n",
       "4   children_playing  \n",
       "5   children_playing  \n",
       "6   children_playing  \n",
       "7   children_playing  \n",
       "8   children_playing  \n",
       "9           car_horn  \n",
       "10          car_horn  \n",
       "11          car_horn  \n",
       "12          car_horn  \n",
       "13          car_horn  \n",
       "14          dog_bark  \n",
       "15          dog_bark  \n",
       "16          dog_bark  \n",
       "17          dog_bark  \n",
       "18          dog_bark  \n",
       "19          dog_bark  "
      ]
     },
     "execution_count": 3,
     "metadata": {},
     "output_type": "execute_result"
    }
   ],
   "source": [
    "df.head(20)"
   ]
  },
  {
   "cell_type": "code",
   "execution_count": 4,
   "metadata": {},
   "outputs": [
    {
     "name": "stdout",
     "output_type": "stream",
     "text": [
      "<class 'pandas.core.frame.DataFrame'>\n",
      "RangeIndex: 8732 entries, 0 to 8731\n",
      "Data columns (total 8 columns):\n",
      "slice_file_name    8732 non-null object\n",
      "fsID               8732 non-null int64\n",
      "start              8732 non-null float64\n",
      "end                8732 non-null float64\n",
      "salience           8732 non-null int64\n",
      "fold               8732 non-null int64\n",
      "classID            8732 non-null int64\n",
      "class              8732 non-null object\n",
      "dtypes: float64(2), int64(4), object(2)\n",
      "memory usage: 545.8+ KB\n"
     ]
    }
   ],
   "source": [
    "df.info()"
   ]
  },
  {
   "cell_type": "code",
   "execution_count": 5,
   "metadata": {},
   "outputs": [
    {
     "data": {
      "text/plain": [
       "array(['dog_bark', 'children_playing', 'car_horn', 'air_conditioner',\n",
       "       'street_music', 'gun_shot', 'siren', 'engine_idling', 'jackhammer',\n",
       "       'drilling'], dtype=object)"
      ]
     },
     "execution_count": 5,
     "metadata": {},
     "output_type": "execute_result"
    }
   ],
   "source": [
    "df['class'].unique()"
   ]
  },
  {
   "cell_type": "code",
   "execution_count": 6,
   "metadata": {},
   "outputs": [
    {
     "data": {
      "text/plain": [
       "<matplotlib.axes._subplots.AxesSubplot at 0x1ab30130f28>"
      ]
     },
     "execution_count": 6,
     "metadata": {},
     "output_type": "execute_result"
    },
    {
     "data": {
      "image/png": "[encoded data removed]",
      "text/plain": [
       "<Figure size 432x288 with 1 Axes>"
      ]
     },
     "metadata": {},
     "output_type": "display_data"
    }
   ],
   "source": [
    "df['classID'].hist()"
   ]
  },
  {
   "cell_type": "code",
   "execution_count": 7,
   "metadata": {},
   "outputs": [
    {
     "name": "stdout",
     "output_type": "stream",
     "text": [
      "slice_file_name    1798\n",
      "fsID               1798\n",
      "start              1798\n",
      "end                1798\n",
      "salience           1798\n",
      "fold               1798\n",
      "classID            1798\n",
      "class              1798\n",
      "length             1798\n",
      "dtype: int64\n"
     ]
    },
    {
     "data": {
      "image/png": "[encoded data removed]",
      "text/plain": [
       "<Figure size 432x288 with 1 Axes>"
      ]
     },
     "metadata": {},
     "output_type": "display_data"
    }
   ],
   "source": [
    "df['length'] = df['end'] - df['start']\n",
    "df['length'].hist()\n",
    "print(df[df.length < 4.0].count())"
   ]
  },
  {
   "cell_type": "markdown",
   "metadata": {},
   "source": [
    "Roughly 20% of examples have length less than 4 seconds. We can't discard these examples, since there is already a paucity of data. We will have treat these less-than-ideal data somehow (by zero-padding, or allternately, by periodically extending the data to reach the desired length). Furthermore, there are relatively fewer examples of class 1(?) and 6, thus we anticipate poorer performance on these classes, than other classes, since there are fewer examples to learn from."
   ]
  },
  {
   "cell_type": "code",
   "execution_count": 20,
   "metadata": {},
   "outputs": [],
   "source": [
    "# Some helper functions\n",
    "def normalize(input_file, amp=1):\n",
    "    \"\"\"\n",
    "    Normalizes input_file so the maximum amplitude is +amp or -amp.\n",
    "    \"\"\"\n",
    "    max_amp = np.amax(np.abs(input_file))\n",
    "    return amp * (input_file / max_amp)\n",
    "\n",
    "def get_mel_spectrogram(x, sampling_rate, num_mel_bands, window_size, hop_length):\n",
    "    \"\"\"\n",
    "    Returns mel spectrogram of input x, given sampling_rate, num_mel_bands, window_size, hop_length\n",
    "    \"\"\"\n",
    "    out = librosa.feature.melspectrogram(x, sampling_rate , n_fft=window_size, \n",
    "                                         hop_length=hop_length, n_mels=num_mel_bands, power=2)\n",
    "    ref = np.amax(out)\n",
    "    spectrogram_in_db = librosa.power_to_db((out), ref=ref)\n",
    "    return spectrogram_in_db\n",
    "\n",
    "def zero_pad(input_file, desired_length):\n",
    "    \"\"\"\n",
    "    Returns a zero-padded version of input_file, so all examples have the same length\"\"\"\n",
    "    u = np.zeros(int(desired_length - len(input_file)))\n",
    "    return np.concatenate((input_file, u), axis=0)"
   ]
  },
  {
   "cell_type": "markdown",
   "metadata": {},
   "source": [
    "### Inspection and visualization"
   ]
  },
  {
   "cell_type": "code",
   "execution_count": 129,
   "metadata": {},
   "outputs": [
    {
     "name": "stdout",
     "output_type": "stream",
     "text": [
      "Computation time is: 0.27526 seconds\n"
     ]
    },
    {
     "data": {
      "image/png": "[encoded data removed]",
      "text/plain": [
       "<Figure size 432x288 with 2 Axes>"
      ]
     },
     "metadata": {},
     "output_type": "display_data"
    }
   ],
   "source": [
    "# Some user-defined parameters. Mostly an arbitrary choice for the first attempt at this\n",
    "sampling_rate_new = 22050   # sampling rate to resample audio files to (in Hz)\n",
    "mel_bands = 60              # mel frequency bands to extract\n",
    "window_size = 1024          # for the STFT window (in samples)\n",
    "hop_length = 512            # for the STFT (in samples)\n",
    "desired_length = 88200\n",
    "\n",
    "idx = np.random.randint(0, df.shape[0])\n",
    "fold = df.iloc[idx]['fold'] # extract fold number\n",
    "label = df.iloc[idx]['class'] # extract class name\n",
    "file = df.iloc[idx]['slice_file_name'] # extract file name\n",
    "\n",
    "start = time.time() # for measuring performance of basic processing task\n",
    "y, sr = librosa.load(path+\"\\\\audio\\\\fold\"+str(fold)+\"\\\\\"+str(file), sr=sampling_rate_new)\n",
    "x = normalize(y)\n",
    "if len(x) < desired_length:\n",
    "    x = zero_pad(x, desired_length)\n",
    "X = get_mel_spectrogram(x, sampling_rate_new, mel_bands, window_size, hop_length)\n",
    "end = time.time()\n",
    "print(\"Computation time is: {:.5} seconds\".format(end - start))\n",
    "\n",
    "librosa.display.specshow(X, y_axis='mel', x_axis='time')\n",
    "plt.colorbar(format='%+2.0f dB')\n",
    "plt.title('Mel spectrogram - Example of {}'.format(label))\n",
    "plt.tight_layout()"
   ]
  },
  {
   "cell_type": "markdown",
   "metadata": {},
   "source": [
    " Computation time $\\approx 0.5 \\text{ sec/example} * 8800 \\text{ examples} \\approx 1.25$ hours to process all the examples"
   ]
  },
  {
   "cell_type": "markdown",
   "metadata": {},
   "source": [
    "## Preprocessing"
   ]
  },
  {
   "cell_type": "code",
   "execution_count": 36,
   "metadata": {},
   "outputs": [
    {
     "name": "stdout",
     "output_type": "stream",
     "text": [
      "0.00% done\n",
      "5.73% done\n",
      "11.45% done\n",
      "17.18% done\n",
      "22.90% done\n",
      "28.63% done\n",
      "34.36% done\n",
      "40.08% done\n",
      "45.81% done\n",
      "51.53% done\n",
      "57.26% done\n",
      "62.99% done\n",
      "68.71% done\n",
      "74.44% done\n",
      "80.16% done\n",
      "85.89% done\n",
      "91.62% done\n",
      "97.34% done\n"
     ]
    }
   ],
   "source": [
    "# build train/test data\n",
    "N = df.shape[0]\n",
    "X = np.zeros((N, 60, 173)) # data\n",
    "Y = np.zeros(N) # labels\n",
    "\n",
    "for idx in range(N):\n",
    "    fold = df.iloc[idx]['fold']\n",
    "    label = df.iloc[idx]['classID']\n",
    "    file = df.iloc[idx]['slice_file_name']\n",
    "    os.chdir(path+\"\\\\audio\\\\fold\"+str(fold))\n",
    "    data, _ = librosa.load(path+\"\\\\audio\\\\fold\"+str(fold)+\"\\\\\"+str(file), sr=sampling_rate_new)\n",
    "    # zero pad is the signal is shorter than 4 sec\n",
    "    if len(data) < desired_length:\n",
    "        data = zero_pad(data, desired_length)\n",
    "    data_normalized = normalize(data) # normalize\n",
    "    S = get_mel_spectrogram(data_normalized, sampling_rate_new, mel_bands, window_size, hop_length)\n",
    "    X[idx,:,:] = S[:60, :173]\n",
    "    Y[idx] = label\n",
    "    # some nice progress messages ...\n",
    "    if idx % 500 == 0:\n",
    "        print(\"{:.2f}% done\".format(idx*100 / N))"
   ]
  },
  {
   "cell_type": "markdown",
   "metadata": {},
   "source": [
    "### Train/test split &One-Hot Encoding"
   ]
  },
  {
   "cell_type": "code",
   "execution_count": 37,
   "metadata": {},
   "outputs": [
    {
     "name": "stderr",
     "output_type": "stream",
     "text": [
      "Using TensorFlow backend.\n"
     ]
    }
   ],
   "source": [
    "from keras.utils import to_categorical\n",
    "from sklearn.model_selection import train_test_split"
   ]
  },
  {
   "cell_type": "code",
   "execution_count": 71,
   "metadata": {},
   "outputs": [],
   "source": [
    "# One-Hot Encoding\n",
    "data = np.array(Y)\n",
    "Ybar = to_categorical(data)\n",
    "\n",
    "# Train/test split\n",
    "split = 0.20 # 20% of data for testing\n",
    "X_train, X_test, y_train, y_test = train_test_split(X, Ybar, test_size=split, random_state=42)"
   ]
  },
  {
   "cell_type": "code",
   "execution_count": 39,
   "metadata": {},
   "outputs": [
    {
     "data": {
      "text/plain": [
       "(60, 173)"
      ]
     },
     "execution_count": 39,
     "metadata": {},
     "output_type": "execute_result"
    }
   ],
   "source": [
    "X_train[0].shape"
   ]
  },
  {
   "cell_type": "code",
   "execution_count": 72,
   "metadata": {},
   "outputs": [
    {
     "name": "stdout",
     "output_type": "stream",
     "text": [
      "The shape of X_train is: (6985, 60, 173, 1)\n",
      "The shape of X_test is: (1747, 60, 173, 1)\n",
      "The shape of y_train is: (6985, 10)\n",
      "The shape of y_test is: (1747, 10)\n"
     ]
    }
   ],
   "source": [
    "# Reshape data to play nicely with Keras\n",
    "X_train = np.asarray(X_train)\n",
    "X_train = np.expand_dims(X_train, axis=3)\n",
    "X_test = np.asarray(X_test)\n",
    "X_test = np.expand_dims(X_test, axis=3)\n",
    "np.reshape(X_train, (-1, 60, 173, 1))\n",
    "np.reshape(X_test, (-1, 60, 173, 1))\n",
    "\n",
    "# check\n",
    "print(\"The shape of X_train is: {}\".format(X_train.shape))\n",
    "print(\"The shape of X_test is: {}\".format(X_test.shape))\n",
    "print(\"The shape of y_train is: {}\".format(y_train.shape))\n",
    "print(\"The shape of y_test is: {}\".format(y_test.shape))"
   ]
  },
  {
   "cell_type": "code",
   "execution_count": null,
   "metadata": {},
   "outputs": [],
   "source": []
  },
  {
   "cell_type": "markdown",
   "metadata": {},
   "source": [
    "## CNN"
   ]
  },
  {
   "cell_type": "code",
   "execution_count": 73,
   "metadata": {},
   "outputs": [],
   "source": [
    "from keras.models import Model\n",
    "from keras.layers import Dense, Conv2D, MaxPooling2D, ZeroPadding2D, Dropout, Flatten, Input, Activation\n",
    "from keras.layers import BatchNormalization\n",
    "from keras.optimizers import Adam\n",
    "from keras.initializers import glorot_uniform\n",
    "import tensorflow as tf"
   ]
  },
  {
   "cell_type": "code",
   "execution_count": 74,
   "metadata": {},
   "outputs": [],
   "source": [
    "# CNN Architecture: Version 1\n",
    "def model(input_shape=(60,173,1), classes=10):\n",
    "    \n",
    "    # Input placeholder\n",
    "    X_input = Input(input_shape)\n",
    "    \n",
    "    # Conv2D -> BN -> ReLU -> maxpool -> Dropout block applied 2 times\n",
    "    X = Conv2D(16, (3,3), padding='same', strides=(1,1), name='Conv1')(X_input)\n",
    "    X = BatchNormalization(axis=3, name='BN1')(X)\n",
    "    X = Activation('relu')(X)\n",
    "    X = MaxPooling2D((2, 2), name='max_pool1')(X)\n",
    "    X = Dropout(0.1, name='Dropout1')(X)\n",
    "    \n",
    "    X = Conv2D(64, (3, 3), strides=(1, 1), padding='same', name='Conv2')(X)\n",
    "    X = BatchNormalization(axis=3, name='BN2')(X)\n",
    "    X = Activation('relu')(X)\n",
    "    X = MaxPooling2D((2,2), name='max_pool2')(X)\n",
    "    X = Dropout(0.1, name='Dropout2')(X)\n",
    "\n",
    "    X = Flatten()(X)\n",
    "    \n",
    "    # Fully connected layers\n",
    "    X = Dense(25, activation='relu', name='FC1')(X)\n",
    "    X = Dense(classes, activation='softmax', name='FC2')(X)\n",
    "    \n",
    "    # Create model\n",
    "    model = Model(inputs=X_input, outputs=X, name='CNN_MODEL1')\n",
    "    \n",
    "    return model"
   ]
  },
  {
   "cell_type": "code",
   "execution_count": 75,
   "metadata": {},
   "outputs": [
    {
     "name": "stdout",
     "output_type": "stream",
     "text": [
      "_________________________________________________________________\n",
      "Layer (type)                 Output Shape              Param #   \n",
      "=================================================================\n",
      "input_7 (InputLayer)         (None, 60, 173, 1)        0         \n",
      "_________________________________________________________________\n",
      "Conv1 (Conv2D)               (None, 60, 173, 16)       160       \n",
      "_________________________________________________________________\n",
      "BN1 (BatchNormalization)     (None, 60, 173, 16)       64        \n",
      "_________________________________________________________________\n",
      "activation_11 (Activation)   (None, 60, 173, 16)       0         \n",
      "_________________________________________________________________\n",
      "max_pool1 (MaxPooling2D)     (None, 30, 86, 16)        0         \n",
      "_________________________________________________________________\n",
      "Dropout1 (Dropout)           (None, 30, 86, 16)        0         \n",
      "_________________________________________________________________\n",
      "Conv2 (Conv2D)               (None, 30, 86, 64)        9280      \n",
      "_________________________________________________________________\n",
      "BN2 (BatchNormalization)     (None, 30, 86, 64)        256       \n",
      "_________________________________________________________________\n",
      "activation_12 (Activation)   (None, 30, 86, 64)        0         \n",
      "_________________________________________________________________\n",
      "max_pool2 (MaxPooling2D)     (None, 15, 43, 64)        0         \n",
      "_________________________________________________________________\n",
      "Dropout2 (Dropout)           (None, 15, 43, 64)        0         \n",
      "_________________________________________________________________\n",
      "flatten_6 (Flatten)          (None, 41280)             0         \n",
      "_________________________________________________________________\n",
      "FC1 (Dense)                  (None, 25)                1032025   \n",
      "_________________________________________________________________\n",
      "FC2 (Dense)                  (None, 10)                260       \n",
      "=================================================================\n",
      "Total params: 1,042,045\n",
      "Trainable params: 1,041,885\n",
      "Non-trainable params: 160\n",
      "_________________________________________________________________\n"
     ]
    }
   ],
   "source": [
    "# Compile model, check summary, etc.\n",
    "model = model()\n",
    "model.compile(loss=\"categorical_crossentropy\", optimizer=Adam(), metrics=[\"accuracy\"])\n",
    "model.summary()"
   ]
  },
  {
   "cell_type": "code",
   "execution_count": 76,
   "metadata": {},
   "outputs": [
    {
     "name": "stdout",
     "output_type": "stream",
     "text": [
      "Train on 5588 samples, validate on 1397 samples\n",
      "Epoch 1/10\n",
      "5588/5588 [==============================] - 414s 74ms/step - loss: 5.1087 - acc: 0.1994 - val_loss: 2.2261 - val_acc: 0.1346\n",
      "Epoch 2/10\n",
      "5588/5588 [==============================] - 409s 73ms/step - loss: 2.1287 - acc: 0.1967 - val_loss: 2.1477 - val_acc: 0.1482\n",
      "Epoch 3/10\n",
      "5588/5588 [==============================] - 407s 73ms/step - loss: 2.0098 - acc: 0.2385 - val_loss: 2.5500 - val_acc: 0.2455\n",
      "Epoch 4/10\n",
      "5588/5588 [==============================] - 416s 74ms/step - loss: 1.9635 - acc: 0.2915 - val_loss: 2.7250 - val_acc: 0.2505\n",
      "Epoch 5/10\n",
      "5588/5588 [==============================] - 416s 74ms/step - loss: 1.9205 - acc: 0.3101 - val_loss: 2.1765 - val_acc: 0.2863\n",
      "Epoch 6/10\n",
      "5588/5588 [==============================] - 423s 76ms/step - loss: 1.8585 - acc: 0.3273 - val_loss: 1.9738 - val_acc: 0.3092\n",
      "Epoch 7/10\n",
      "5588/5588 [==============================] - 406s 73ms/step - loss: 1.8115 - acc: 0.3388 - val_loss: 2.0736 - val_acc: 0.3071\n",
      "Epoch 8/10\n",
      "5588/5588 [==============================] - 403s 72ms/step - loss: 1.7613 - acc: 0.3669 - val_loss: 2.1518 - val_acc: 0.3178\n",
      "Epoch 9/10\n",
      "5588/5588 [==============================] - 427s 76ms/step - loss: 1.7264 - acc: 0.3851 - val_loss: 2.4363 - val_acc: 0.3085\n",
      "Epoch 10/10\n",
      "5588/5588 [==============================] - 425s 76ms/step - loss: 1.6515 - acc: 0.4030 - val_loss: 1.8546 - val_acc: 0.3665\n"
     ]
    }
   ],
   "source": [
    "history = model.fit(x=X_train, y=y_train, validation_split=0.2, \n",
    "                batch_size=100, epochs=10, verbose=1)"
   ]
  },
  {
   "cell_type": "markdown",
   "metadata": {},
   "source": [
    "- First, we failed to normalize the data. So we *must* address that.\n",
    "- Second, the training and validation accuracy is not impressive (current state of the art is in the low 70s). Further, the validation accuracy is significantly less than the training accuracy, suggesting that we are underfitting, i.e., we need a more complicated/expressive model. This can be accomplished in numerous ways. We will add an additional convolutional layer and increase the width of the fully connected layer. This result is somewhat suprising given how small the training data is.\n",
    "- Lastly, we will use a better initilization scheme (namely, Glorot Uniform aka Xavier) for the weights of the fully connected layers."
   ]
  },
  {
   "cell_type": "code",
   "execution_count": 92,
   "metadata": {},
   "outputs": [],
   "source": [
    "# Normalize test and traing data to have mean = 0, variance = 1\n",
    "mean = np.mean(X_train)\n",
    "std = np.std(X_train)\n",
    "\n",
    "X_train = (X_train - mean) / std\n",
    "X_test = (X_test - mean) / std"
   ]
  },
  {
   "cell_type": "code",
   "execution_count": 93,
   "metadata": {},
   "outputs": [],
   "source": [
    "# CNN Arhitecture: Verson 2\n",
    "\n",
    "def model2(input_shape=(60,173,1), classes=10):\n",
    "    \n",
    "    # Input placeholder\n",
    "    X_input = Input(input_shape)\n",
    "    \n",
    "    # Conv2D -> BN -> ReLU -> maxpool -> Dropout block applied 3 times\n",
    "    X = Conv2D(24, (5,5), padding='same', strides=(1,1), name='Conv1')(X_input)\n",
    "    X = BatchNormalization(axis=3, name='BN1')(X)\n",
    "    X = Activation('relu')(X)\n",
    "    X = MaxPooling2D((2, 2), name='max_pool1')(X)\n",
    "    X = Dropout(0.1, name='Dropout1')(X)\n",
    "    \n",
    "    X = Conv2D(48, (3, 3), strides=(1, 1), padding='same', name='Conv2')(X)\n",
    "    X = BatchNormalization(axis=3, name='BN2')(X)\n",
    "    X = Activation('relu')(X)\n",
    "    X = MaxPooling2D((2,2), name='max_pool2')(X)\n",
    "    X = Dropout(0.1, name='Dropout2')(X)\n",
    "\n",
    "    X = Conv2D(64, (3, 3), strides=(1, 1), padding='same', name='Conv3')(X)\n",
    "    X = BatchNormalization(axis=3, name='BN3')(X)\n",
    "    X = Activation('relu')(X)\n",
    "    X = MaxPooling2D((2,2), name='max_pool3')(X)\n",
    "    X = Dropout(0.1, name='Dropout3')(X)\n",
    "    \n",
    "    X = Flatten()(X)\n",
    "    \n",
    "    # Fully connected layers\n",
    "    X = Dense(100, activation='relu', kernel_initializer='glorot_uniform', name='FC1')(X)\n",
    "    X = Dense(classes, activation='softmax', kernel_initializer='glorot_uniform', name='FC2')(X)\n",
    "    \n",
    "    # Create model\n",
    "    model = Model(inputs=X_input, outputs=X, name='CNN_MODEL2')\n",
    "    \n",
    "    return model"
   ]
  },
  {
   "cell_type": "code",
   "execution_count": 94,
   "metadata": {},
   "outputs": [
    {
     "name": "stdout",
     "output_type": "stream",
     "text": [
      "_________________________________________________________________\n",
      "Layer (type)                 Output Shape              Param #   \n",
      "=================================================================\n",
      "input_14 (InputLayer)        (None, 60, 173, 1)        0         \n",
      "_________________________________________________________________\n",
      "Conv1 (Conv2D)               (None, 60, 173, 24)       624       \n",
      "_________________________________________________________________\n",
      "BN1 (BatchNormalization)     (None, 60, 173, 24)       96        \n",
      "_________________________________________________________________\n",
      "activation_31 (Activation)   (None, 60, 173, 24)       0         \n",
      "_________________________________________________________________\n",
      "max_pool1 (MaxPooling2D)     (None, 30, 86, 24)        0         \n",
      "_________________________________________________________________\n",
      "Dropout1 (Dropout)           (None, 30, 86, 24)        0         \n",
      "_________________________________________________________________\n",
      "Conv2 (Conv2D)               (None, 30, 86, 48)        10416     \n",
      "_________________________________________________________________\n",
      "BN2 (BatchNormalization)     (None, 30, 86, 48)        192       \n",
      "_________________________________________________________________\n",
      "activation_32 (Activation)   (None, 30, 86, 48)        0         \n",
      "_________________________________________________________________\n",
      "max_pool2 (MaxPooling2D)     (None, 15, 43, 48)        0         \n",
      "_________________________________________________________________\n",
      "Dropout2 (Dropout)           (None, 15, 43, 48)        0         \n",
      "_________________________________________________________________\n",
      "Conv3 (Conv2D)               (None, 15, 43, 64)        27712     \n",
      "_________________________________________________________________\n",
      "BN3 (BatchNormalization)     (None, 15, 43, 64)        256       \n",
      "_________________________________________________________________\n",
      "activation_33 (Activation)   (None, 15, 43, 64)        0         \n",
      "_________________________________________________________________\n",
      "max_pool3 (MaxPooling2D)     (None, 7, 21, 64)         0         \n",
      "_________________________________________________________________\n",
      "Dropout3 (Dropout)           (None, 7, 21, 64)         0         \n",
      "_________________________________________________________________\n",
      "flatten_13 (Flatten)         (None, 9408)              0         \n",
      "_________________________________________________________________\n",
      "FC1 (Dense)                  (None, 100)               940900    \n",
      "_________________________________________________________________\n",
      "FC2 (Dense)                  (None, 10)                1010      \n",
      "=================================================================\n",
      "Total params: 981,206\n",
      "Trainable params: 980,934\n",
      "Non-trainable params: 272\n",
      "_________________________________________________________________\n"
     ]
    }
   ],
   "source": [
    "model2 = model2()\n",
    "model2.compile(loss=\"categorical_crossentropy\", optimizer=Adam(), metrics=[\"accuracy\"])\n",
    "model2.summary()"
   ]
  },
  {
   "cell_type": "code",
   "execution_count": 95,
   "metadata": {},
   "outputs": [
    {
     "name": "stdout",
     "output_type": "stream",
     "text": [
      "Train on 5588 samples, validate on 1397 samples\n",
      "Epoch 1/10\n",
      "5588/5588 [==============================] - 531s 95ms/step - loss: 4.3835 - acc: 0.3731 - val_loss: 3.2242 - val_acc: 0.4767\n",
      "Epoch 2/10\n",
      "5588/5588 [==============================] - 528s 94ms/step - loss: 3.1811 - acc: 0.5011 - val_loss: 1.9335 - val_acc: 0.4710\n",
      "Epoch 3/10\n",
      "5588/5588 [==============================] - 529s 95ms/step - loss: 1.4589 - acc: 0.5481 - val_loss: 1.4687 - val_acc: 0.4524\n",
      "Epoch 4/10\n",
      "5588/5588 [==============================] - 525s 94ms/step - loss: 0.9739 - acc: 0.6662 - val_loss: 1.4317 - val_acc: 0.4868\n",
      "Epoch 5/10\n",
      "5588/5588 [==============================] - 521s 93ms/step - loss: 0.8430 - acc: 0.7139 - val_loss: 1.5603 - val_acc: 0.4911\n",
      "Epoch 6/10\n",
      "5588/5588 [==============================] - 515s 92ms/step - loss: 0.7229 - acc: 0.7504 - val_loss: 1.2211 - val_acc: 0.5705\n",
      "Epoch 7/10\n",
      "5588/5588 [==============================] - 517s 93ms/step - loss: 0.6193 - acc: 0.7895 - val_loss: 1.0574 - val_acc: 0.6414\n",
      "Epoch 8/10\n",
      "5588/5588 [==============================] - 515s 92ms/step - loss: 0.5426 - acc: 0.8119 - val_loss: 0.8727 - val_acc: 0.7115\n",
      "Epoch 9/10\n",
      "5588/5588 [==============================] - 517s 93ms/step - loss: 0.4677 - acc: 0.8354 - val_loss: 2.8931 - val_acc: 0.3758\n",
      "Epoch 10/10\n",
      "5588/5588 [==============================] - 515s 92ms/step - loss: 0.4016 - acc: 0.8626 - val_loss: 0.8700 - val_acc: 0.7215\n"
     ]
    }
   ],
   "source": [
    "history = model2.fit(x=X_train, y=y_train, validation_split=0.2, \n",
    "                batch_size=100, epochs=10, verbose=1)"
   ]
  },
  {
   "cell_type": "markdown",
   "metadata": {},
   "source": [
    "- Huge improvement over last run\n",
    "- Training accuracy is still low. The accuracy jump epoch-to-epoch suggests more training epochs are needed.\n",
    "- validation accuracy significantly lower than training accuracy, suggesting the need for more regularization (increase dropout)\n",
    "- Also increase rate of Adam optimizer from 0.001 to 0.01 per suggestions found online "
   ]
  },
  {
   "cell_type": "code",
   "execution_count": 96,
   "metadata": {},
   "outputs": [],
   "source": [
    "# CNN Arhitecture: Verson 3\n",
    "\n",
    "def model3(input_shape=(60,173,1), classes=10):\n",
    "    \n",
    "    # Input placeholder\n",
    "    X_input = Input(input_shape)\n",
    "    \n",
    "    # Conv2D -> BN -> ReLU -> maxpool -> Dropout block applied 3 times\n",
    "    X = Conv2D(24, (5,5), padding='same', strides=(1,1), name='Conv1')(X_input)\n",
    "    X = BatchNormalization(axis=3, name='BN1')(X)\n",
    "    X = Activation('relu')(X)\n",
    "    X = MaxPooling2D((2, 2), name='max_pool1')(X)\n",
    "    X = Dropout(0.15, name='Dropout1')(X)\n",
    "    \n",
    "    X = Conv2D(48, (3, 3), strides=(1, 1), padding='same', name='Conv2')(X)\n",
    "    X = BatchNormalization(axis=3, name='BN2')(X)\n",
    "    X = Activation('relu')(X)\n",
    "    X = MaxPooling2D((2,2), name='max_pool2')(X)\n",
    "    X = Dropout(0.15, name='Dropout2')(X)\n",
    "\n",
    "    X = Conv2D(64, (3, 3), strides=(1, 1), padding='same', name='Conv3')(X)\n",
    "    X = BatchNormalization(axis=3, name='BN3')(X)\n",
    "    X = Activation('relu')(X)\n",
    "    X = MaxPooling2D((2,2), name='max_pool3')(X)\n",
    "    X = Dropout(0.15, name='Dropout3')(X)\n",
    "    \n",
    "    X = Flatten()(X)\n",
    "    \n",
    "    # Fully connected layers\n",
    "    X = Dense(100, activation='relu', kernel_initializer='glorot_uniform', name='FC1')(X)\n",
    "    X = Dense(classes, activation='softmax', kernel_initializer='glorot_uniform', name='FC2')(X)\n",
    "    \n",
    "    # Create model\n",
    "    model = Model(inputs=X_input, outputs=X, name='CNN_MODEL3')\n",
    "    \n",
    "    return model"
   ]
  },
  {
   "cell_type": "code",
   "execution_count": 97,
   "metadata": {},
   "outputs": [
    {
     "name": "stdout",
     "output_type": "stream",
     "text": [
      "_________________________________________________________________\n",
      "Layer (type)                 Output Shape              Param #   \n",
      "=================================================================\n",
      "input_15 (InputLayer)        (None, 60, 173, 1)        0         \n",
      "_________________________________________________________________\n",
      "Conv1 (Conv2D)               (None, 60, 173, 24)       624       \n",
      "_________________________________________________________________\n",
      "BN1 (BatchNormalization)     (None, 60, 173, 24)       96        \n",
      "_________________________________________________________________\n",
      "activation_34 (Activation)   (None, 60, 173, 24)       0         \n",
      "_________________________________________________________________\n",
      "max_pool1 (MaxPooling2D)     (None, 30, 86, 24)        0         \n",
      "_________________________________________________________________\n",
      "Dropout1 (Dropout)           (None, 30, 86, 24)        0         \n",
      "_________________________________________________________________\n",
      "Conv2 (Conv2D)               (None, 30, 86, 48)        10416     \n",
      "_________________________________________________________________\n",
      "BN2 (BatchNormalization)     (None, 30, 86, 48)        192       \n",
      "_________________________________________________________________\n",
      "activation_35 (Activation)   (None, 30, 86, 48)        0         \n",
      "_________________________________________________________________\n",
      "max_pool2 (MaxPooling2D)     (None, 15, 43, 48)        0         \n",
      "_________________________________________________________________\n",
      "Dropout2 (Dropout)           (None, 15, 43, 48)        0         \n",
      "_________________________________________________________________\n",
      "Conv3 (Conv2D)               (None, 15, 43, 64)        27712     \n",
      "_________________________________________________________________\n",
      "BN3 (BatchNormalization)     (None, 15, 43, 64)        256       \n",
      "_________________________________________________________________\n",
      "activation_36 (Activation)   (None, 15, 43, 64)        0         \n",
      "_________________________________________________________________\n",
      "max_pool3 (MaxPooling2D)     (None, 7, 21, 64)         0         \n",
      "_________________________________________________________________\n",
      "Dropout3 (Dropout)           (None, 7, 21, 64)         0         \n",
      "_________________________________________________________________\n",
      "flatten_14 (Flatten)         (None, 9408)              0         \n",
      "_________________________________________________________________\n",
      "FC1 (Dense)                  (None, 100)               940900    \n",
      "_________________________________________________________________\n",
      "FC2 (Dense)                  (None, 10)                1010      \n",
      "=================================================================\n",
      "Total params: 981,206\n",
      "Trainable params: 980,934\n",
      "Non-trainable params: 272\n",
      "_________________________________________________________________\n"
     ]
    }
   ],
   "source": [
    "model3 = model3()\n",
    "model3.compile(loss=\"categorical_crossentropy\", optimizer=Adam(lr=0.01), metrics=[\"accuracy\"])\n",
    "model3.summary()"
   ]
  },
  {
   "cell_type": "code",
   "execution_count": 98,
   "metadata": {},
   "outputs": [
    {
     "name": "stdout",
     "output_type": "stream",
     "text": [
      "Train on 5588 samples, validate on 1397 samples\n",
      "Epoch 1/20\n",
      "5588/5588 [==============================] - 532s 95ms/step - loss: 14.1611 - acc: 0.1081 - val_loss: 14.3182 - val_acc: 0.1117\n",
      "Epoch 2/20\n",
      "5588/5588 [==============================] - 531s 95ms/step - loss: 14.3644 - acc: 0.1088 - val_loss: 14.3182 - val_acc: 0.1117\n",
      "Epoch 3/20\n",
      "5588/5588 [==============================] - 529s 95ms/step - loss: 14.3644 - acc: 0.1088 - val_loss: 14.3182 - val_acc: 0.1117\n",
      "Epoch 4/20\n"
     ]
    },
    {
     "ename": "KeyboardInterrupt",
     "evalue": "",
     "output_type": "error",
     "traceback": [
      "\u001b[1;31m---------------------------------------------------------------------------\u001b[0m",
      "\u001b[1;31mKeyboardInterrupt\u001b[0m                         Traceback (most recent call last)",
      "\u001b[1;32m<ipython-input-98-b3cde208e8d5>\u001b[0m in \u001b[0;36m<module>\u001b[1;34m()\u001b[0m\n\u001b[0;32m      1\u001b[0m history3 = model3.fit(x=X_train, y=y_train, validation_split=0.2, \n\u001b[1;32m----> 2\u001b[1;33m                 batch_size=100, epochs=20, verbose=1)\n\u001b[0m",
      "\u001b[1;32mC:\\ProgramData\\Anaconda3\\lib\\site-packages\\keras\\engine\\training.py\u001b[0m in \u001b[0;36mfit\u001b[1;34m(self, x, y, batch_size, epochs, verbose, callbacks, validation_split, validation_data, shuffle, class_weight, sample_weight, initial_epoch, steps_per_epoch, validation_steps, **kwargs)\u001b[0m\n\u001b[0;32m   1040\u001b[0m                                         \u001b[0minitial_epoch\u001b[0m\u001b[1;33m=\u001b[0m\u001b[0minitial_epoch\u001b[0m\u001b[1;33m,\u001b[0m\u001b[1;33m\u001b[0m\u001b[0m\n\u001b[0;32m   1041\u001b[0m                                         \u001b[0msteps_per_epoch\u001b[0m\u001b[1;33m=\u001b[0m\u001b[0msteps_per_epoch\u001b[0m\u001b[1;33m,\u001b[0m\u001b[1;33m\u001b[0m\u001b[0m\n\u001b[1;32m-> 1042\u001b[1;33m                                         validation_steps=validation_steps)\n\u001b[0m\u001b[0;32m   1043\u001b[0m \u001b[1;33m\u001b[0m\u001b[0m\n\u001b[0;32m   1044\u001b[0m     def evaluate(self, x=None, y=None,\n",
      "\u001b[1;32mC:\\ProgramData\\Anaconda3\\lib\\site-packages\\keras\\engine\\training_arrays.py\u001b[0m in \u001b[0;36mfit_loop\u001b[1;34m(model, f, ins, out_labels, batch_size, epochs, verbose, callbacks, val_f, val_ins, shuffle, callback_metrics, initial_epoch, steps_per_epoch, validation_steps)\u001b[0m\n\u001b[0;32m    197\u001b[0m                     \u001b[0mins_batch\u001b[0m\u001b[1;33m[\u001b[0m\u001b[0mi\u001b[0m\u001b[1;33m]\u001b[0m \u001b[1;33m=\u001b[0m \u001b[0mins_batch\u001b[0m\u001b[1;33m[\u001b[0m\u001b[0mi\u001b[0m\u001b[1;33m]\u001b[0m\u001b[1;33m.\u001b[0m\u001b[0mtoarray\u001b[0m\u001b[1;33m(\u001b[0m\u001b[1;33m)\u001b[0m\u001b[1;33m\u001b[0m\u001b[0m\n\u001b[0;32m    198\u001b[0m \u001b[1;33m\u001b[0m\u001b[0m\n\u001b[1;32m--> 199\u001b[1;33m                 \u001b[0mouts\u001b[0m \u001b[1;33m=\u001b[0m \u001b[0mf\u001b[0m\u001b[1;33m(\u001b[0m\u001b[0mins_batch\u001b[0m\u001b[1;33m)\u001b[0m\u001b[1;33m\u001b[0m\u001b[0m\n\u001b[0m\u001b[0;32m    200\u001b[0m                 \u001b[1;32mif\u001b[0m \u001b[1;32mnot\u001b[0m \u001b[0misinstance\u001b[0m\u001b[1;33m(\u001b[0m\u001b[0mouts\u001b[0m\u001b[1;33m,\u001b[0m \u001b[0mlist\u001b[0m\u001b[1;33m)\u001b[0m\u001b[1;33m:\u001b[0m\u001b[1;33m\u001b[0m\u001b[0m\n\u001b[0;32m    201\u001b[0m                     \u001b[0mouts\u001b[0m \u001b[1;33m=\u001b[0m \u001b[1;33m[\u001b[0m\u001b[0mouts\u001b[0m\u001b[1;33m]\u001b[0m\u001b[1;33m\u001b[0m\u001b[0m\n",
      "\u001b[1;32mC:\\ProgramData\\Anaconda3\\lib\\site-packages\\keras\\backend\\tensorflow_backend.py\u001b[0m in \u001b[0;36m__call__\u001b[1;34m(self, inputs)\u001b[0m\n\u001b[0;32m   2659\u001b[0m                 \u001b[1;32mreturn\u001b[0m \u001b[0mself\u001b[0m\u001b[1;33m.\u001b[0m\u001b[0m_legacy_call\u001b[0m\u001b[1;33m(\u001b[0m\u001b[0minputs\u001b[0m\u001b[1;33m)\u001b[0m\u001b[1;33m\u001b[0m\u001b[0m\n\u001b[0;32m   2660\u001b[0m \u001b[1;33m\u001b[0m\u001b[0m\n\u001b[1;32m-> 2661\u001b[1;33m             \u001b[1;32mreturn\u001b[0m \u001b[0mself\u001b[0m\u001b[1;33m.\u001b[0m\u001b[0m_call\u001b[0m\u001b[1;33m(\u001b[0m\u001b[0minputs\u001b[0m\u001b[1;33m)\u001b[0m\u001b[1;33m\u001b[0m\u001b[0m\n\u001b[0m\u001b[0;32m   2662\u001b[0m         \u001b[1;32melse\u001b[0m\u001b[1;33m:\u001b[0m\u001b[1;33m\u001b[0m\u001b[0m\n\u001b[0;32m   2663\u001b[0m             \u001b[1;32mif\u001b[0m \u001b[0mpy_any\u001b[0m\u001b[1;33m(\u001b[0m\u001b[0mis_tensor\u001b[0m\u001b[1;33m(\u001b[0m\u001b[0mx\u001b[0m\u001b[1;33m)\u001b[0m \u001b[1;32mfor\u001b[0m \u001b[0mx\u001b[0m \u001b[1;32min\u001b[0m \u001b[0minputs\u001b[0m\u001b[1;33m)\u001b[0m\u001b[1;33m:\u001b[0m\u001b[1;33m\u001b[0m\u001b[0m\n",
      "\u001b[1;32mC:\\ProgramData\\Anaconda3\\lib\\site-packages\\keras\\backend\\tensorflow_backend.py\u001b[0m in \u001b[0;36m_call\u001b[1;34m(self, inputs)\u001b[0m\n\u001b[0;32m   2629\u001b[0m                                 \u001b[0msymbol_vals\u001b[0m\u001b[1;33m,\u001b[0m\u001b[1;33m\u001b[0m\u001b[0m\n\u001b[0;32m   2630\u001b[0m                                 session)\n\u001b[1;32m-> 2631\u001b[1;33m         \u001b[0mfetched\u001b[0m \u001b[1;33m=\u001b[0m \u001b[0mself\u001b[0m\u001b[1;33m.\u001b[0m\u001b[0m_callable_fn\u001b[0m\u001b[1;33m(\u001b[0m\u001b[1;33m*\u001b[0m\u001b[0marray_vals\u001b[0m\u001b[1;33m)\u001b[0m\u001b[1;33m\u001b[0m\u001b[0m\n\u001b[0m\u001b[0;32m   2632\u001b[0m         \u001b[1;32mreturn\u001b[0m \u001b[0mfetched\u001b[0m\u001b[1;33m[\u001b[0m\u001b[1;33m:\u001b[0m\u001b[0mlen\u001b[0m\u001b[1;33m(\u001b[0m\u001b[0mself\u001b[0m\u001b[1;33m.\u001b[0m\u001b[0moutputs\u001b[0m\u001b[1;33m)\u001b[0m\u001b[1;33m]\u001b[0m\u001b[1;33m\u001b[0m\u001b[0m\n\u001b[0;32m   2633\u001b[0m \u001b[1;33m\u001b[0m\u001b[0m\n",
      "\u001b[1;32mC:\\ProgramData\\Anaconda3\\lib\\site-packages\\tensorflow\\python\\client\\session.py\u001b[0m in \u001b[0;36m__call__\u001b[1;34m(self, *args)\u001b[0m\n\u001b[0;32m   1449\u001b[0m         \u001b[1;32mif\u001b[0m \u001b[0mself\u001b[0m\u001b[1;33m.\u001b[0m\u001b[0m_session\u001b[0m\u001b[1;33m.\u001b[0m\u001b[0m_created_with_new_api\u001b[0m\u001b[1;33m:\u001b[0m\u001b[1;33m\u001b[0m\u001b[0m\n\u001b[0;32m   1450\u001b[0m           return tf_session.TF_SessionRunCallable(\n\u001b[1;32m-> 1451\u001b[1;33m               self._session._session, self._handle, args, status, None)\n\u001b[0m\u001b[0;32m   1452\u001b[0m         \u001b[1;32melse\u001b[0m\u001b[1;33m:\u001b[0m\u001b[1;33m\u001b[0m\u001b[0m\n\u001b[0;32m   1453\u001b[0m           return tf_session.TF_DeprecatedSessionRunCallable(\n",
      "\u001b[1;31mKeyboardInterrupt\u001b[0m: "
     ]
    }
   ],
   "source": [
    "history3 = model3.fit(x=X_train, y=y_train, validation_split=0.2, \n",
    "                batch_size=100, epochs=20, verbose=1)"
   ]
  },
  {
   "cell_type": "markdown",
   "metadata": {},
   "source": [
    "- CNN is not learning (after 3 epochs, still at 10% accuracy)\n",
    "- Adjust learning rate back to original value ...\n",
    "- Set number of epochs to 15"
   ]
  },
  {
   "cell_type": "code",
   "execution_count": 102,
   "metadata": {},
   "outputs": [],
   "source": [
    "# CNN Arhitecture: Verson 4\n",
    "\n",
    "def model4(input_shape=(60,173,1), classes=10):\n",
    "    \n",
    "    # Input placeholder\n",
    "    X_input = Input(input_shape)\n",
    "    \n",
    "    # Conv2D -> BN -> ReLU -> maxpool -> Dropout block applied 3 times\n",
    "    X = Conv2D(24, (5,5), padding='same', strides=(1,1), name='Conv1')(X_input)\n",
    "    X = BatchNormalization(axis=3, name='BN1')(X)\n",
    "    X = Activation('relu')(X)\n",
    "    X = MaxPooling2D((2, 2), name='max_pool1')(X)\n",
    "    X = Dropout(0.15, name='Dropout1')(X)\n",
    "    \n",
    "    X = Conv2D(48, (3, 3), strides=(1, 1), padding='same', name='Conv2')(X)\n",
    "    X = BatchNormalization(axis=3, name='BN2')(X)\n",
    "    X = Activation('relu')(X)\n",
    "    X = MaxPooling2D((2,2), name='max_pool2')(X)\n",
    "    X = Dropout(0.15, name='Dropout2')(X)\n",
    "\n",
    "    X = Conv2D(64, (3, 3), strides=(1, 1), padding='same', name='Conv3')(X)\n",
    "    X = BatchNormalization(axis=3, name='BN3')(X)\n",
    "    X = Activation('relu')(X)\n",
    "    X = MaxPooling2D((2,2), name='max_pool3')(X)\n",
    "    X = Dropout(0.15, name='Dropout3')(X)\n",
    "    \n",
    "    X = Flatten()(X)\n",
    "    \n",
    "    # Fully connected layers\n",
    "    X = Dense(100, activation='relu', kernel_initializer='glorot_uniform', name='FC1')(X)\n",
    "    X = Dense(classes, activation='softmax', kernel_initializer='glorot_uniform', name='FC2')(X)\n",
    "    \n",
    "    # Create model\n",
    "    model = Model(inputs=X_input, outputs=X, name='CNN_MODEL4')\n",
    "    \n",
    "    return model"
   ]
  },
  {
   "cell_type": "code",
   "execution_count": 103,
   "metadata": {},
   "outputs": [
    {
     "name": "stdout",
     "output_type": "stream",
     "text": [
      "_________________________________________________________________\n",
      "Layer (type)                 Output Shape              Param #   \n",
      "=================================================================\n",
      "input_17 (InputLayer)        (None, 60, 173, 1)        0         \n",
      "_________________________________________________________________\n",
      "Conv1 (Conv2D)               (None, 60, 173, 24)       624       \n",
      "_________________________________________________________________\n",
      "BN1 (BatchNormalization)     (None, 60, 173, 24)       96        \n",
      "_________________________________________________________________\n",
      "activation_40 (Activation)   (None, 60, 173, 24)       0         \n",
      "_________________________________________________________________\n",
      "max_pool1 (MaxPooling2D)     (None, 30, 86, 24)        0         \n",
      "_________________________________________________________________\n",
      "Dropout1 (Dropout)           (None, 30, 86, 24)        0         \n",
      "_________________________________________________________________\n",
      "Conv2 (Conv2D)               (None, 30, 86, 48)        10416     \n",
      "_________________________________________________________________\n",
      "BN2 (BatchNormalization)     (None, 30, 86, 48)        192       \n",
      "_________________________________________________________________\n",
      "activation_41 (Activation)   (None, 30, 86, 48)        0         \n",
      "_________________________________________________________________\n",
      "max_pool2 (MaxPooling2D)     (None, 15, 43, 48)        0         \n",
      "_________________________________________________________________\n",
      "Dropout2 (Dropout)           (None, 15, 43, 48)        0         \n",
      "_________________________________________________________________\n",
      "Conv3 (Conv2D)               (None, 15, 43, 64)        27712     \n",
      "_________________________________________________________________\n",
      "BN3 (BatchNormalization)     (None, 15, 43, 64)        256       \n",
      "_________________________________________________________________\n",
      "activation_42 (Activation)   (None, 15, 43, 64)        0         \n",
      "_________________________________________________________________\n",
      "max_pool3 (MaxPooling2D)     (None, 7, 21, 64)         0         \n",
      "_________________________________________________________________\n",
      "Dropout3 (Dropout)           (None, 7, 21, 64)         0         \n",
      "_________________________________________________________________\n",
      "flatten_16 (Flatten)         (None, 9408)              0         \n",
      "_________________________________________________________________\n",
      "FC1 (Dense)                  (None, 100)               940900    \n",
      "_________________________________________________________________\n",
      "FC2 (Dense)                  (None, 10)                1010      \n",
      "=================================================================\n",
      "Total params: 981,206\n",
      "Trainable params: 980,934\n",
      "Non-trainable params: 272\n",
      "_________________________________________________________________\n"
     ]
    }
   ],
   "source": [
    "model4 = model4()\n",
    "model4.compile(loss=\"categorical_crossentropy\", optimizer=Adam(), metrics=[\"accuracy\"])\n",
    "model4.summary()"
   ]
  },
  {
   "cell_type": "code",
   "execution_count": 105,
   "metadata": {},
   "outputs": [
    {
     "name": "stdout",
     "output_type": "stream",
     "text": [
      "Train on 5588 samples, validate on 1397 samples\n",
      "Epoch 1/15\n",
      "5588/5588 [==============================] - 530s 95ms/step - loss: 4.5242 - acc: 0.3275 - val_loss: 4.5552 - val_acc: 0.3801\n",
      "Epoch 2/15\n",
      "5588/5588 [==============================] - 524s 94ms/step - loss: 3.5424 - acc: 0.4885 - val_loss: 3.9208 - val_acc: 0.4961\n",
      "Epoch 3/15\n",
      "5588/5588 [==============================] - 524s 94ms/step - loss: 3.2913 - acc: 0.5682 - val_loss: 3.8358 - val_acc: 0.5197\n",
      "Epoch 4/15\n",
      "5588/5588 [==============================] - 525s 94ms/step - loss: 3.1991 - acc: 0.6142 - val_loss: 3.7470 - val_acc: 0.5619\n",
      "Epoch 5/15\n",
      "5588/5588 [==============================] - 529s 95ms/step - loss: 3.0633 - acc: 0.6566 - val_loss: 3.7124 - val_acc: 0.5648\n",
      "Epoch 6/15\n",
      "5588/5588 [==============================] - 527s 94ms/step - loss: 3.0194 - acc: 0.6709 - val_loss: 3.8949 - val_acc: 0.5190\n",
      "Epoch 7/15\n",
      "5588/5588 [==============================] - 524s 94ms/step - loss: 2.9664 - acc: 0.6906 - val_loss: 3.7935 - val_acc: 0.5748\n",
      "Epoch 8/15\n",
      "5588/5588 [==============================] - 528s 95ms/step - loss: 2.8798 - acc: 0.7221 - val_loss: 4.0152 - val_acc: 0.5118\n",
      "Epoch 9/15\n",
      "5588/5588 [==============================] - 524s 94ms/step - loss: 2.8495 - acc: 0.7360 - val_loss: 3.5162 - val_acc: 0.6571\n",
      "Epoch 10/15\n",
      "5588/5588 [==============================] - 525s 94ms/step - loss: 2.7973 - acc: 0.7548 - val_loss: 3.3943 - val_acc: 0.6872\n",
      "Epoch 11/15\n",
      "5588/5588 [==============================] - 526s 94ms/step - loss: 2.7691 - acc: 0.7636 - val_loss: 3.3756 - val_acc: 0.6965\n",
      "Epoch 12/15\n",
      "5588/5588 [==============================] - 527s 94ms/step - loss: 2.7447 - acc: 0.7697 - val_loss: 3.4059 - val_acc: 0.6800\n",
      "Epoch 13/15\n",
      "5588/5588 [==============================] - 524s 94ms/step - loss: 2.7616 - acc: 0.7659 - val_loss: 3.3999 - val_acc: 0.6979\n",
      "Epoch 14/15\n",
      "5588/5588 [==============================] - 532s 95ms/step - loss: 2.7507 - acc: 0.7665 - val_loss: 3.4255 - val_acc: 0.6886\n",
      "Epoch 15/15\n",
      "5588/5588 [==============================] - 539s 96ms/step - loss: 2.6845 - acc: 0.7888 - val_loss: 3.3458 - val_acc: 0.7094\n"
     ]
    }
   ],
   "source": [
    "history4 = model4.fit(x=X_train, y=y_train, validation_split=0.2, \n",
    "                batch_size=100, epochs=15, verbose=1)"
   ]
  },
  {
   "cell_type": "code",
   "execution_count": 106,
   "metadata": {},
   "outputs": [
    {
     "name": "stdout",
     "output_type": "stream",
     "text": [
      "1747/1747 [==============================] - 77s 44ms/step\n",
      "Test error: 2.9962883530580187\n",
      "Test accuracy: 0.7240984548004818\n"
     ]
    }
   ],
   "source": [
    "## Test Model 4\n",
    "test_score = model4.evaluate(X_test, y_test, verbose=1)\n",
    "test_score, test_accuracy = test_score\n",
    "print(\"Test error: {}\".format(test_score))\n",
    "print(\"Test accuracy: {}\".format(test_accuracy))"
   ]
  },
  {
   "cell_type": "markdown",
   "metadata": {},
   "source": [
    "72% test accuracy! Not bad! As stated above, low to mid 70s is a good result for this dataset using this technique."
   ]
  },
  {
   "cell_type": "code",
   "execution_count": 107,
   "metadata": {},
   "outputs": [
    {
     "data": {
      "image/png": "[encoded data removed]",
      "text/plain": [
       "<Figure size 576x432 with 1 Axes>"
      ]
     },
     "metadata": {},
     "output_type": "display_data"
    }
   ],
   "source": [
    "fig, ax = plt.subplots(figsize=(8,6))    \n",
    "ax.plot(history4.history[\"loss\"], c=\"r\")\n",
    "ax.plot(history4.history[\"val_loss\"], c=\"b\")\n",
    "ax.set_title(\"Error: Categorical Cross-Entropy\")\n",
    "ax.set_ylabel(\"Cost\")\n",
    "ax.set_xlabel(\"Epoch\")\n",
    "ax.legend([\"Training\", \"Validation\"], loc=\"best\");"
   ]
  },
  {
   "cell_type": "code",
   "execution_count": null,
   "metadata": {},
   "outputs": [],
   "source": []
  }
 ],
 "metadata": {
  "kernelspec": {
   "display_name": "Python 3",
   "language": "python",
   "name": "python3"
  },
  "language_info": {
   "codemirror_mode": {
    "name": "ipython",
    "version": 3
   },
   "file_extension": ".py",
   "mimetype": "text/x-python",
   "name": "python",
   "nbconvert_exporter": "python",
   "pygments_lexer": "ipython3",
   "version": "3.6.6"
  },
  "varInspector": {
   "cols": {
    "lenName": 16,
    "lenType": 16,
    "lenVar": 40
   },
   "kernels_config": {
    "python": {
     "delete_cmd_postfix": "",
     "delete_cmd_prefix": "del ",
     "library": "var_list.py",
     "varRefreshCmd": "print(var_dic_list())"
    },
    "r": {
     "delete_cmd_postfix": ") ",
     "delete_cmd_prefix": "rm(",
     "library": "var_list.r",
     "varRefreshCmd": "cat(var_dic_list()) "
    }
   },
   "types_to_exclude": [
    "module",
    "function",
    "builtin_function_or_method",
    "instance",
    "_Feature"
   ],
   "window_display": false
  }
 },
 "nbformat": 4,
 "nbformat_minor": 2
}
