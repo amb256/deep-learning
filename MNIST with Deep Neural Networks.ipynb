{
 "cells": [
  {
   "cell_type": "code",
   "execution_count": 317,
   "metadata": {},
   "outputs": [],
   "source": [
    "import numpy as np\n",
    "import matplotlib.pyplot as plt\n",
    "from keras.models import Sequential, Model\n",
    "from keras.layers import Dense, Flatten, Input, Dropout, Conv1D\n",
    "from keras.optimizers import SGD, Adam\n",
    "from keras.datasets import mnist\n",
    "from keras import regularizers\n",
    "from keras import metrics\n",
    "from keras.utils import to_categorical"
   ]
  },
  {
   "cell_type": "code",
   "execution_count": 231,
   "metadata": {},
   "outputs": [],
   "source": [
    "(x_train, y_train), (x_test, y_test) = mnist.load_data()\n",
    "\n",
    "# Normalize all values\n",
    "x_train = x_train/255\n",
    "x_test = x_test/255"
   ]
  },
  {
   "cell_type": "code",
   "execution_count": 234,
   "metadata": {},
   "outputs": [
    {
     "name": "stdout",
     "output_type": "stream",
     "text": [
      "The shape of x_train is (60000, 28, 28)\n",
      "The shape of y_train is (60000,)\n",
      "The shape of x_test is (10000, 28, 28)\n",
      "The shape of y_test is (10000,)\n"
     ]
    }
   ],
   "source": [
    "print('The shape of x_train is {}'.format(x_train.shape))\n",
    "print('The shape of y_train is {}'.format(y_train.shape))\n",
    "print('The shape of x_test is {}'.format(x_test.shape))\n",
    "print('The shape of y_test is {}'.format(y_test.shape))"
   ]
  },
  {
   "cell_type": "code",
   "execution_count": 235,
   "metadata": {},
   "outputs": [],
   "source": [
    "x_train = np.reshape(x_train, (60000, 784))\n",
    "x_test = np.reshape(x_test, (10000, 784))"
   ]
  },
  {
   "cell_type": "code",
   "execution_count": 236,
   "metadata": {},
   "outputs": [
    {
     "name": "stdout",
     "output_type": "stream",
     "text": [
      "The shape of y_train is (60000, 10)\n",
      "The shape of y_test is (10000, 10)\n"
     ]
    }
   ],
   "source": [
    "y_train = to_categorical(y_train)\n",
    "y_test = to_categorical(y_test)\n",
    "print('The shape of y_train is {}'.format(y_train.shape))\n",
    "print('The shape of y_test is {}'.format(y_test.shape))"
   ]
  },
  {
   "cell_type": "markdown",
   "metadata": {},
   "source": [
    "## A Simple and Small Neural Network\n",
    " - hidden layer of $100$ units, tanh activation\n",
    " - stochastic gradient descent with momentum optimizer\n",
    " - no regularization"
   ]
  },
  {
   "cell_type": "code",
   "execution_count": 240,
   "metadata": {},
   "outputs": [],
   "source": [
    "model = Sequential()\n",
    "model.add(Dense(100, activation='tanh', input_dim=784))\n",
    "model.add(Dense(10, activation='softmax'))\n",
    "\n",
    "sgd = SGD(lr=0.001, decay=1e-6, momentum=0.9)\n",
    "model.compile(loss='categorical_crossentropy', optimizer=sgd, metrics=['accuracy'])"
   ]
  },
  {
   "cell_type": "code",
   "execution_count": 241,
   "metadata": {},
   "outputs": [
    {
     "name": "stdout",
     "output_type": "stream",
     "text": [
      "_________________________________________________________________\n",
      "Layer (type)                 Output Shape              Param #   \n",
      "=================================================================\n",
      "dense_183 (Dense)            (None, 100)               78500     \n",
      "_________________________________________________________________\n",
      "dense_184 (Dense)            (None, 10)                1010      \n",
      "=================================================================\n",
      "Total params: 79,510\n",
      "Trainable params: 79,510\n",
      "Non-trainable params: 0\n",
      "_________________________________________________________________\n"
     ]
    }
   ],
   "source": [
    "model.summary()"
   ]
  },
  {
   "cell_type": "code",
   "execution_count": 242,
   "metadata": {},
   "outputs": [
    {
     "name": "stdout",
     "output_type": "stream",
     "text": [
      "Epoch 1/10\n",
      "60000/60000 [==============================] - 4s 63us/step - loss: 1.0067 - acc: 0.7559\n",
      "Epoch 2/10\n",
      "60000/60000 [==============================] - 2s 40us/step - loss: 0.5222 - acc: 0.8678\n",
      "Epoch 3/10\n",
      "60000/60000 [==============================] - 2s 40us/step - loss: 0.4321 - acc: 0.8847\n",
      "Epoch 4/10\n",
      "60000/60000 [==============================] - 2s 40us/step - loss: 0.3887 - acc: 0.8935\n",
      "Epoch 5/10\n",
      "60000/60000 [==============================] - 2s 41us/step - loss: 0.3616 - acc: 0.8995\n",
      "Epoch 6/10\n",
      "60000/60000 [==============================] - 2s 41us/step - loss: 0.3424 - acc: 0.9045\n",
      "Epoch 7/10\n",
      "60000/60000 [==============================] - 3s 43us/step - loss: 0.3275 - acc: 0.9076\n",
      "Epoch 8/10\n",
      "60000/60000 [==============================] - 3s 44us/step - loss: 0.3155 - acc: 0.9107\n",
      "Epoch 9/10\n",
      "60000/60000 [==============================] - 3s 44us/step - loss: 0.3052 - acc: 0.9141\n",
      "Epoch 10/10\n",
      "60000/60000 [==============================] - 3s 45us/step - loss: 0.2964 - acc: 0.9169\n"
     ]
    },
    {
     "data": {
      "text/plain": [
       "<keras.callbacks.History at 0x23916ad79b0>"
      ]
     },
     "execution_count": 242,
     "metadata": {},
     "output_type": "execute_result"
    }
   ],
   "source": [
    "model.fit(x_train, y_train, epochs=10, batch_size=100)"
   ]
  },
  {
   "cell_type": "code",
   "execution_count": 245,
   "metadata": {},
   "outputs": [
    {
     "name": "stdout",
     "output_type": "stream",
     "text": [
      "10000/10000 [==============================] - 2s 159us/step\n"
     ]
    },
    {
     "data": {
      "text/plain": [
       "[0.2814977415269241, 0.921399993300438]"
      ]
     },
     "execution_count": 245,
     "metadata": {},
     "output_type": "execute_result"
    }
   ],
   "source": [
    "score = model.evaluate(x_test, y_test, batch_size=10)\n",
    "score"
   ]
  },
  {
   "cell_type": "markdown",
   "metadata": {},
   "source": [
    "$92.01\\%$ accuracy! With such a simple model! Let us see if we can do better!"
   ]
  },
  {
   "cell_type": "markdown",
   "metadata": {},
   "source": [
    "## A Deeper Neural Network\n",
    "- 5 hidden layers, 200 units each. relu activation.\n",
    "- dropout on input ($20\\%$) and output ($20\\%$)\n",
    "- Adam optimizer"
   ]
  },
  {
   "cell_type": "code",
   "execution_count": 246,
   "metadata": {},
   "outputs": [],
   "source": [
    "def model2(input_shape=(784,)):\n",
    "    \n",
    "    # input placeholder\n",
    "    X_input = Input(shape=input_shape)\n",
    "    \n",
    "    # 50% dropout layer\n",
    "    X = Dropout(0.2)(X_input)\n",
    "    \n",
    "    # 5 layers of 200 units, relu activations\n",
    "    X = Dense(200, activation='relu')(X)\n",
    "    X = Dense(200, activation='relu')(X)\n",
    "    X = Dense(200, activation='relu')(X)\n",
    "    X = Dense(200, activation='relu')(X)\n",
    "    X = Dense(200, activation='relu')(X)\n",
    "    \n",
    "    # 20% dropout\n",
    "    X = Dropout(0.2)(X)\n",
    "    \n",
    "    # classification output layer\n",
    "    Y = Dense(10, activation='softmax')(X)\n",
    "\n",
    "    # build the model\n",
    "    model = Model(inputs=X_input, outputs=Y, name='MODEL2')\n",
    "    \n",
    "    return model"
   ]
  },
  {
   "cell_type": "code",
   "execution_count": 247,
   "metadata": {},
   "outputs": [
    {
     "name": "stdout",
     "output_type": "stream",
     "text": [
      "_________________________________________________________________\n",
      "Layer (type)                 Output Shape              Param #   \n",
      "=================================================================\n",
      "input_23 (InputLayer)        (None, 784)               0         \n",
      "_________________________________________________________________\n",
      "dropout_43 (Dropout)         (None, 784)               0         \n",
      "_________________________________________________________________\n",
      "dense_185 (Dense)            (None, 200)               157000    \n",
      "_________________________________________________________________\n",
      "dense_186 (Dense)            (None, 200)               40200     \n",
      "_________________________________________________________________\n",
      "dense_187 (Dense)            (None, 200)               40200     \n",
      "_________________________________________________________________\n",
      "dense_188 (Dense)            (None, 200)               40200     \n",
      "_________________________________________________________________\n",
      "dense_189 (Dense)            (None, 200)               40200     \n",
      "_________________________________________________________________\n",
      "dropout_44 (Dropout)         (None, 200)               0         \n",
      "_________________________________________________________________\n",
      "dense_190 (Dense)            (None, 10)                2010      \n",
      "=================================================================\n",
      "Total params: 319,810\n",
      "Trainable params: 319,810\n",
      "Non-trainable params: 0\n",
      "_________________________________________________________________\n"
     ]
    }
   ],
   "source": [
    "model2 = model2() # build the model\n",
    "adam = Adam() # set optimizer\n",
    "model2.compile(loss='categorical_crossentropy', optimizer=adam, metrics=['accuracy'])\n",
    "model2.summary()"
   ]
  },
  {
   "cell_type": "code",
   "execution_count": 248,
   "metadata": {},
   "outputs": [
    {
     "name": "stdout",
     "output_type": "stream",
     "text": [
      "Epoch 1/10\n",
      "60000/60000 [==============================] - 10s 166us/step - loss: 0.3102 - acc: 0.9046\n",
      "Epoch 2/10\n",
      "60000/60000 [==============================] - 10s 171us/step - loss: 0.1421 - acc: 0.95670s - loss: 0.\n",
      "Epoch 3/10\n",
      "60000/60000 [==============================] - 10s 169us/step - loss: 0.1116 - acc: 0.9661\n",
      "Epoch 4/10\n",
      "60000/60000 [==============================] - 11s 176us/step - loss: 0.0894 - acc: 0.9727\n",
      "Epoch 5/10\n",
      "60000/60000 [==============================] - 10s 160us/step - loss: 0.0789 - acc: 0.9754\n",
      "Epoch 6/10\n",
      "60000/60000 [==============================] - 10s 168us/step - loss: 0.0688 - acc: 0.9786\n",
      "Epoch 7/10\n",
      "60000/60000 [==============================] - 10s 170us/step - loss: 0.0607 - acc: 0.9813\n",
      "Epoch 8/10\n",
      "60000/60000 [==============================] - 12s 201us/step - loss: 0.0564 - acc: 0.9825\n",
      "Epoch 9/10\n",
      "60000/60000 [==============================] - 11s 182us/step - loss: 0.0516 - acc: 0.9841\n",
      "Epoch 10/10\n",
      "60000/60000 [==============================] - 10s 160us/step - loss: 0.0494 - acc: 0.9845\n"
     ]
    },
    {
     "data": {
      "text/plain": [
       "<keras.callbacks.History at 0x2391797e0b8>"
      ]
     },
     "execution_count": 248,
     "metadata": {},
     "output_type": "execute_result"
    }
   ],
   "source": [
    "model2.fit(x_train, y_train, epochs=10, batch_size=100)"
   ]
  },
  {
   "cell_type": "code",
   "execution_count": 249,
   "metadata": {},
   "outputs": [
    {
     "name": "stdout",
     "output_type": "stream",
     "text": [
      "10000/10000 [==============================] - 3s 269us/step\n"
     ]
    },
    {
     "data": {
      "text/plain": [
       "[0.07398390667223975, 0.9812999963760376]"
      ]
     },
     "execution_count": 249,
     "metadata": {},
     "output_type": "execute_result"
    }
   ],
   "source": [
    "score = model2.evaluate(x_test, y_test, batch_size=10)\n",
    "score"
   ]
  },
  {
   "cell_type": "markdown",
   "metadata": {},
   "source": [
    "$98.13\\%$ Accuracy! Let's just try an ordinary deep neural network."
   ]
  },
  {
   "cell_type": "markdown",
   "metadata": {},
   "source": [
    "### 3 x 500 Neural Network"
   ]
  },
  {
   "cell_type": "code",
   "execution_count": 293,
   "metadata": {},
   "outputs": [],
   "source": [
    "def model3(input_shape=(784,)):\n",
    "    \n",
    "    # input placeholder\n",
    "    X_input = Input(shape=input_shape)\n",
    "    \n",
    "    # 2 wide layers\n",
    "    X = Dense(500, activation='tanh')(X_input)\n",
    "    X = Dense(500, activation='tanh')(X)\n",
    "    X = Dense(500, activation='tanh')(X)\n",
    "    \n",
    "    # classification output layer\n",
    "    Y = Dense(10, activation='softmax')(X)\n",
    "\n",
    "    # build the model\n",
    "    model = Model(inputs=X_input, outputs=Y, name='MODEL2')\n",
    "    \n",
    "    return model"
   ]
  },
  {
   "cell_type": "code",
   "execution_count": 294,
   "metadata": {},
   "outputs": [
    {
     "name": "stdout",
     "output_type": "stream",
     "text": [
      "_________________________________________________________________\n",
      "Layer (type)                 Output Shape              Param #   \n",
      "=================================================================\n",
      "input_37 (InputLayer)        (None, 784)               0         \n",
      "_________________________________________________________________\n",
      "dense_221 (Dense)            (None, 500)               392500    \n",
      "_________________________________________________________________\n",
      "dense_222 (Dense)            (None, 500)               250500    \n",
      "_________________________________________________________________\n",
      "dense_223 (Dense)            (None, 500)               250500    \n",
      "_________________________________________________________________\n",
      "dense_224 (Dense)            (None, 10)                5010      \n",
      "=================================================================\n",
      "Total params: 898,510\n",
      "Trainable params: 898,510\n",
      "Non-trainable params: 0\n",
      "_________________________________________________________________\n"
     ]
    }
   ],
   "source": [
    "model3 = model3() # build the model\n",
    "adam = Adam()\n",
    "model3.compile(loss='categorical_crossentropy', optimizer=adam, metrics=['accuracy'])\n",
    "model3.summary()"
   ]
  },
  {
   "cell_type": "code",
   "execution_count": 295,
   "metadata": {},
   "outputs": [
    {
     "name": "stdout",
     "output_type": "stream",
     "text": [
      "Epoch 1/10\n",
      "60000/60000 [==============================] - 18s 302us/step - loss: 0.2589 - acc: 0.9204\n",
      "Epoch 2/10\n",
      "60000/60000 [==============================] - 18s 304us/step - loss: 0.1151 - acc: 0.96361s - loss: 0.1174 - acc:  - ETA: 1s -\n",
      "Epoch 3/10\n",
      "60000/60000 [==============================] - 19s 315us/step - loss: 0.0797 - acc: 0.9749\n",
      "Epoch 4/10\n",
      "60000/60000 [==============================] - 19s 317us/step - loss: 0.0571 - acc: 0.9821\n",
      "Epoch 5/10\n",
      "60000/60000 [==============================] - 20s 326us/step - loss: 0.0454 - acc: 0.9851\n",
      "Epoch 6/10\n",
      "60000/60000 [==============================] - 19s 318us/step - loss: 0.0378 - acc: 0.98780s - loss: 0.0373 -\n",
      "Epoch 7/10\n",
      "60000/60000 [==============================] - 19s 315us/step - loss: 0.0286 - acc: 0.9908\n",
      "Epoch 8/10\n",
      "60000/60000 [==============================] - 19s 321us/step - loss: 0.0263 - acc: 0.9911\n",
      "Epoch 9/10\n",
      "60000/60000 [==============================] - 19s 322us/step - loss: 0.0238 - acc: 0.9919\n",
      "Epoch 10/10\n",
      "60000/60000 [==============================] - 19s 321us/step - loss: 0.0189 - acc: 0.99360s - loss: 0.0191 - ac\n"
     ]
    },
    {
     "data": {
      "text/plain": [
       "<keras.callbacks.History at 0x239745a5dd8>"
      ]
     },
     "execution_count": 295,
     "metadata": {},
     "output_type": "execute_result"
    }
   ],
   "source": [
    "model3.fit(x_train, y_train, epochs=10, batch_size=100)"
   ]
  },
  {
   "cell_type": "code",
   "execution_count": 296,
   "metadata": {},
   "outputs": [
    {
     "name": "stdout",
     "output_type": "stream",
     "text": [
      "10000/10000 [==============================] - 5s 465us/step\n"
     ]
    },
    {
     "data": {
      "text/plain": [
       "[0.07896114289291836, 0.9770999962687492]"
      ]
     },
     "execution_count": 296,
     "metadata": {},
     "output_type": "execute_result"
    }
   ],
   "source": [
    "score = model3.evaluate(x_test, y_test, batch_size=10)\n",
    "score"
   ]
  },
  {
   "cell_type": "markdown",
   "metadata": {},
   "source": [
    "Train accuracy 99.35 %. Test accuracy 97.71%. So the network isn't generalizing well. Let's just try something bigger with regularization.\n",
    "\n",
    "## A Big, Deep, Network"
   ]
  },
  {
   "cell_type": "code",
   "execution_count": 321,
   "metadata": {},
   "outputs": [],
   "source": [
    "def model4(input_shape=(784,)):\n",
    "    \n",
    "    # input placeholder\n",
    "    X_input = Input(shape=input_shape)\n",
    "\n",
    "    # 20% dropout layer\n",
    "    X = Dropout(0.2)(X_input)\n",
    "    \n",
    "    # Wide and spotty network\n",
    "    X = Dense(1000, activation = 'relu')(X)\n",
    "    X = Dropout(0.2)(X)\n",
    "    \n",
    "    # 2 grouping of 3 x 100 relus + 20% dropout\n",
    "    X = Dense(200, activation='relu')(X)\n",
    "    X = Dense(200, activation='relu')(X)\n",
    "    X = Dense(200, activation='relu')(X)\n",
    "    X = Dropout(0.1)(X)\n",
    "    \n",
    "    X = Dense(100, activation='relu')(X)\n",
    "    X = Dense(100, activation='relu')(X)\n",
    "    X = Dense(100, activation='relu')(X)\n",
    "    X = Dropout(0.1)(X)\n",
    "    \n",
    "    # classification output layer\n",
    "    X = Dense(50, activation='sigmoid')(X)\n",
    "    Y = Dense(10, activation='softmax')(X)\n",
    "\n",
    "    # build the model\n",
    "    model = Model(inputs=X_input, outputs=Y, name='MODEL4')\n",
    "    \n",
    "    return model"
   ]
  },
  {
   "cell_type": "code",
   "execution_count": 322,
   "metadata": {},
   "outputs": [
    {
     "name": "stdout",
     "output_type": "stream",
     "text": [
      "_________________________________________________________________\n",
      "Layer (type)                 Output Shape              Param #   \n",
      "=================================================================\n",
      "input_42 (InputLayer)        (None, 784)               0         \n",
      "_________________________________________________________________\n",
      "dropout_49 (Dropout)         (None, 784)               0         \n",
      "_________________________________________________________________\n",
      "dense_234 (Dense)            (None, 1000)              785000    \n",
      "_________________________________________________________________\n",
      "dropout_50 (Dropout)         (None, 1000)              0         \n",
      "_________________________________________________________________\n",
      "dense_235 (Dense)            (None, 200)               200200    \n",
      "_________________________________________________________________\n",
      "dense_236 (Dense)            (None, 200)               40200     \n",
      "_________________________________________________________________\n",
      "dense_237 (Dense)            (None, 200)               40200     \n",
      "_________________________________________________________________\n",
      "dropout_51 (Dropout)         (None, 200)               0         \n",
      "_________________________________________________________________\n",
      "dense_238 (Dense)            (None, 100)               20100     \n",
      "_________________________________________________________________\n",
      "dense_239 (Dense)            (None, 100)               10100     \n",
      "_________________________________________________________________\n",
      "dense_240 (Dense)            (None, 100)               10100     \n",
      "_________________________________________________________________\n",
      "dropout_52 (Dropout)         (None, 100)               0         \n",
      "_________________________________________________________________\n",
      "dense_241 (Dense)            (None, 50)                5050      \n",
      "_________________________________________________________________\n",
      "dense_242 (Dense)            (None, 10)                510       \n",
      "=================================================================\n",
      "Total params: 1,111,460\n",
      "Trainable params: 1,111,460\n",
      "Non-trainable params: 0\n",
      "_________________________________________________________________\n"
     ]
    }
   ],
   "source": [
    "model4 = model4() # build the model\n",
    "adam = Adam()\n",
    "model4.compile(loss='categorical_crossentropy', optimizer=adam, metrics=['accuracy'])\n",
    "model4.summary()"
   ]
  },
  {
   "cell_type": "code",
   "execution_count": 323,
   "metadata": {},
   "outputs": [
    {
     "name": "stdout",
     "output_type": "stream",
     "text": [
      "Epoch 1/10\n",
      "60000/60000 [==============================] - 27s 456us/step - loss: 0.4957 - acc: 0.8628\n",
      "Epoch 2/10\n",
      "60000/60000 [==============================] - 27s 454us/step - loss: 0.1851 - acc: 0.9514\n",
      "Epoch 3/10\n",
      "60000/60000 [==============================] - 26s 437us/step - loss: 0.1392 - acc: 0.9630\n",
      "Epoch 4/10\n",
      "60000/60000 [==============================] - 27s 448us/step - loss: 0.1145 - acc: 0.9682\n",
      "Epoch 5/10\n",
      "60000/60000 [==============================] - 26s 431us/step - loss: 0.0981 - acc: 0.9733\n",
      "Epoch 6/10\n",
      "60000/60000 [==============================] - 26s 437us/step - loss: 0.0897 - acc: 0.9760\n",
      "Epoch 7/10\n",
      "60000/60000 [==============================] - 27s 450us/step - loss: 0.0817 - acc: 0.9774\n",
      "Epoch 8/10\n",
      "60000/60000 [==============================] - 30s 498us/step - loss: 0.0742 - acc: 0.9792\n",
      "Epoch 9/10\n",
      "60000/60000 [==============================] - 31s 519us/step - loss: 0.0676 - acc: 0.9811\n",
      "Epoch 10/10\n",
      "60000/60000 [==============================] - 28s 461us/step - loss: 0.0637 - acc: 0.9823\n"
     ]
    },
    {
     "data": {
      "text/plain": [
       "<keras.callbacks.History at 0x2397933f5f8>"
      ]
     },
     "execution_count": 323,
     "metadata": {},
     "output_type": "execute_result"
    }
   ],
   "source": [
    "model4.fit(x_train, y_train, epochs=10, batch_size=100)"
   ]
  },
  {
   "cell_type": "code",
   "execution_count": 324,
   "metadata": {},
   "outputs": [
    {
     "name": "stdout",
     "output_type": "stream",
     "text": [
      "10000/10000 [==============================] - 5s 533us/step\n"
     ]
    },
    {
     "data": {
      "text/plain": [
       "[0.06813931174157187, 0.9827999965548515]"
      ]
     },
     "execution_count": 324,
     "metadata": {},
     "output_type": "execute_result"
    }
   ],
   "source": [
    "score = model4.evaluate(x_test, y_test, batch_size=10)\n",
    "score"
   ]
  },
  {
   "cell_type": "markdown",
   "metadata": {},
   "source": [
    "Test accuracy of 98.28% versus train accuracy of 98.23%. This network generlized better than the previous model. Is that due to the dropout? Or the different network architecture. Let's remove the dropout and see what happens."
   ]
  },
  {
   "cell_type": "code",
   "execution_count": 326,
   "metadata": {},
   "outputs": [],
   "source": [
    "def model5(input_shape=(784,)):\n",
    "    \n",
    "    X_input = Input(shape=input_shape)\n",
    "    X = Dense(1000, activation='relu')(X_input)\n",
    "    X = Dense(200, activation='relu')(X)\n",
    "    X = Dense(200, activation='relu')(X)\n",
    "    X = Dense(200, activation='relu')(X)\n",
    "    X = Dense(100, activation='relu')(X)\n",
    "    X = Dense(100, activation='relu')(X)\n",
    "    X = Dense(100, activation='relu')(X)\n",
    "    X = Dense(50, activation='sigmoid')(X)\n",
    "    Y = Dense(10, activation='softmax')(X)\n",
    "\n",
    "    model = Model(inputs=X_input, outputs=Y, name='MODEL4')\n",
    "    \n",
    "    return model"
   ]
  },
  {
   "cell_type": "code",
   "execution_count": 328,
   "metadata": {},
   "outputs": [
    {
     "name": "stdout",
     "output_type": "stream",
     "text": [
      "_________________________________________________________________\n",
      "Layer (type)                 Output Shape              Param #   \n",
      "=================================================================\n",
      "input_43 (InputLayer)        (None, 784)               0         \n",
      "_________________________________________________________________\n",
      "dense_243 (Dense)            (None, 1000)              785000    \n",
      "_________________________________________________________________\n",
      "dense_244 (Dense)            (None, 200)               200200    \n",
      "_________________________________________________________________\n",
      "dense_245 (Dense)            (None, 200)               40200     \n",
      "_________________________________________________________________\n",
      "dense_246 (Dense)            (None, 200)               40200     \n",
      "_________________________________________________________________\n",
      "dense_247 (Dense)            (None, 100)               20100     \n",
      "_________________________________________________________________\n",
      "dense_248 (Dense)            (None, 100)               10100     \n",
      "_________________________________________________________________\n",
      "dense_249 (Dense)            (None, 100)               10100     \n",
      "_________________________________________________________________\n",
      "dense_250 (Dense)            (None, 50)                5050      \n",
      "_________________________________________________________________\n",
      "dense_251 (Dense)            (None, 10)                510       \n",
      "=================================================================\n",
      "Total params: 1,111,460\n",
      "Trainable params: 1,111,460\n",
      "Non-trainable params: 0\n",
      "_________________________________________________________________\n"
     ]
    }
   ],
   "source": [
    "model5 = model5() # build the model\n",
    "adam = Adam()\n",
    "model5.compile(loss='categorical_crossentropy', optimizer=adam, metrics=['accuracy'])\n",
    "model5.summary()"
   ]
  },
  {
   "cell_type": "code",
   "execution_count": 329,
   "metadata": {},
   "outputs": [
    {
     "name": "stdout",
     "output_type": "stream",
     "text": [
      "Epoch 1/10\n",
      "60000/60000 [==============================] - 24s 402us/step - loss: 0.3804 - acc: 0.9052\n",
      "Epoch 2/10\n",
      "60000/60000 [==============================] - 25s 422us/step - loss: 0.1288 - acc: 0.9676\n",
      "Epoch 3/10\n",
      "60000/60000 [==============================] - 24s 393us/step - loss: 0.0908 - acc: 0.9770\n",
      "Epoch 4/10\n",
      "60000/60000 [==============================] - 23s 390us/step - loss: 0.0697 - acc: 0.9817\n",
      "Epoch 5/10\n",
      "60000/60000 [==============================] - 25s 414us/step - loss: 0.0569 - acc: 0.9852\n",
      "Epoch 6/10\n",
      "60000/60000 [==============================] - 24s 408us/step - loss: 0.0469 - acc: 0.9880\n",
      "Epoch 7/10\n",
      "60000/60000 [==============================] - 25s 423us/step - loss: 0.0416 - acc: 0.9891\n",
      "Epoch 8/10\n",
      "60000/60000 [==============================] - 27s 442us/step - loss: 0.0341 - acc: 0.99094s - lo\n",
      "Epoch 9/10\n",
      "60000/60000 [==============================] - 26s 430us/step - loss: 0.0339 - acc: 0.9906\n",
      "Epoch 10/10\n",
      "60000/60000 [==============================] - 26s 427us/step - loss: 0.0307 - acc: 0.9920\n"
     ]
    },
    {
     "data": {
      "text/plain": [
       "<keras.callbacks.History at 0x2397bb43f98>"
      ]
     },
     "execution_count": 329,
     "metadata": {},
     "output_type": "execute_result"
    }
   ],
   "source": [
    "model5.fit(x_train, y_train, epochs=10, batch_size=100)"
   ]
  },
  {
   "cell_type": "code",
   "execution_count": 331,
   "metadata": {},
   "outputs": [
    {
     "name": "stdout",
     "output_type": "stream",
     "text": [
      "10000/10000 [==============================] - 5s 515us/step\n"
     ]
    },
    {
     "data": {
      "text/plain": [
       "[0.09015802885312588, 0.9791999959945679]"
      ]
     },
     "execution_count": 331,
     "metadata": {},
     "output_type": "execute_result"
    }
   ],
   "source": [
    "score = model5.evaluate(x_test, y_test, batch_size=10)\n",
    "score"
   ]
  },
  {
   "cell_type": "markdown",
   "metadata": {},
   "source": [
    "99.2% accuracy on the training data, 97.9% accuracy on the test data. Looks like dropout does provide value, after all."
   ]
  },
  {
   "cell_type": "code",
   "execution_count": null,
   "metadata": {},
   "outputs": [],
   "source": []
  }
 ],
 "metadata": {
  "kernelspec": {
   "display_name": "Python 3",
   "language": "python",
   "name": "python3"
  },
  "language_info": {
   "codemirror_mode": {
    "name": "ipython",
    "version": 3
   },
   "file_extension": ".py",
   "mimetype": "text/x-python",
   "name": "python",
   "nbconvert_exporter": "python",
   "pygments_lexer": "ipython3",
   "version": "3.6.5"
  },
  "varInspector": {
   "cols": {
    "lenName": 16,
    "lenType": 16,
    "lenVar": 40
   },
   "kernels_config": {
    "python": {
     "delete_cmd_postfix": "",
     "delete_cmd_prefix": "del ",
     "library": "var_list.py",
     "varRefreshCmd": "print(var_dic_list())"
    },
    "r": {
     "delete_cmd_postfix": ") ",
     "delete_cmd_prefix": "rm(",
     "library": "var_list.r",
     "varRefreshCmd": "cat(var_dic_list()) "
    }
   },
   "types_to_exclude": [
    "module",
    "function",
    "builtin_function_or_method",
    "instance",
    "_Feature"
   ],
   "window_display": false
  }
 },
 "nbformat": 4,
 "nbformat_minor": 2
}
